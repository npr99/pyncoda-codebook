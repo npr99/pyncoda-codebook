{
 "cells": [
  {
   "cell_type": "code",
   "execution_count": 2,
   "id": "379a433f",
   "metadata": {},
   "outputs": [],
   "source": [
    "import sample_test_package as pkg"
   ]
  },
  {
   "cell_type": "code",
   "execution_count": 3,
   "id": "2548e7ac",
   "metadata": {},
   "outputs": [
    {
     "data": {
      "text/plain": [
       "5"
      ]
     },
     "execution_count": 3,
     "metadata": {},
     "output_type": "execute_result"
    }
   ],
   "source": [
    "pkg.add_num(2, 3)"
   ]
  },
  {
   "cell_type": "code",
   "execution_count": 4,
   "id": "7ee049e5",
   "metadata": {},
   "outputs": [
    {
     "data": {
      "text/plain": [
       "12"
      ]
     },
     "execution_count": 4,
     "metadata": {},
     "output_type": "execute_result"
    }
   ],
   "source": [
    "pkg.add_num(2, 10)"
   ]
  }
 ],
 "metadata": {
  "kernelspec": {
   "display_name": "pycodebook",
   "language": "python",
   "name": "python3"
  },
  "language_info": {
   "codemirror_mode": {
    "name": "ipython",
    "version": 3
   },
   "file_extension": ".py",
   "mimetype": "text/x-python",
   "name": "python",
   "nbconvert_exporter": "python",
   "pygments_lexer": "ipython3",
   "version": "3.12.11"
  }
 },
 "nbformat": 4,
 "nbformat_minor": 5
}
